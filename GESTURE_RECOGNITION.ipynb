{
  "nbformat": 4,
  "nbformat_minor": 0,
  "metadata": {
    "colab": {
      "name": "GESTURE_RECOGNITION.ipynb",
      "provenance": [],
      "authorship_tag": "ABX9TyMPpRxH95vItQ3KEuD/Gkp0",
      "include_colab_link": true
    },
    "kernelspec": {
      "name": "python3",
      "display_name": "Python 3"
    }
  },
  "cells": [
    {
      "cell_type": "markdown",
      "metadata": {
        "id": "view-in-github",
        "colab_type": "text"
      },
      "source": [
        "<a href=\"https://colab.research.google.com/github/Uniquedebangana/IOT_CLASS/blob/main/GESTURE_RECOGNITION.ipynb\" target=\"_parent\"><img src=\"https://colab.research.google.com/assets/colab-badge.svg\" alt=\"Open In Colab\"/></a>"
      ]
    },
    {
      "cell_type": "code",
      "metadata": {
        "id": "R0JGkZ7fpkyx"
      },
      "source": [
        "import numpy as np\r\n",
        "import pandas as pd\r\n",
        "import matplotlib.pyplot as plt\r\n",
        "import seaborn as sns\r\n",
        "from matplotlib import pyplot as plt\r\n",
        "import seaborn as sns"
      ],
      "execution_count": 37,
      "outputs": []
    },
    {
      "cell_type": "code",
      "metadata": {
        "id": "v5kOvtpKpviY"
      },
      "source": [
        "df1=pd.read_csv('https://raw.githubusercontent.com/UNCG-DAISY/Tiny_Gesture/main/data/jump_set.csv')\r\n",
        "df2=pd.read_csv('https://raw.githubusercontent.com/UNCG-DAISY/Tiny_Gesture/main/data/other_set.csv')\r\n",
        "df3=pd.read_csv('https://raw.githubusercontent.com/UNCG-DAISY/Tiny_Gesture/main/data/run_set.csv')\r\n",
        "df4=pd.read_csv('https://raw.githubusercontent.com/UNCG-DAISY/Tiny_Gesture/main/data/squat_set.csv')\r\n",
        "df5=pd.read_csv('https://raw.githubusercontent.com/UNCG-DAISY/Tiny_Gesture/main/data/walk_set.csv')"
      ],
      "execution_count": 2,
      "outputs": []
    },
    {
      "cell_type": "code",
      "metadata": {
        "id": "U62CArckpyAX"
      },
      "source": [
        "df1['gesture']=1\r\n",
        "df2['gesture']=2\r\n",
        "df3['gesture']=3\r\n",
        "df4['gesture']=4\r\n",
        "df5['gesture']=5"
      ],
      "execution_count": 3,
      "outputs": []
    },
    {
      "cell_type": "code",
      "metadata": {
        "id": "2n7myfNQp0EQ"
      },
      "source": [
        "df=pd.concat([df1,df2,df3,df4,df5],axis=0)"
      ],
      "execution_count": 5,
      "outputs": []
    },
    {
      "cell_type": "code",
      "metadata": {
        "colab": {
          "base_uri": "https://localhost:8080/",
          "height": 204
        },
        "id": "tLkoejBJp3-4",
        "outputId": "2fd5b812-189a-4ad7-8901-2a2d337d5e03"
      },
      "source": [
        "df.head()"
      ],
      "execution_count": 7,
      "outputs": [
        {
          "output_type": "execute_result",
          "data": {
            "text/html": [
              "<div>\n",
              "<style scoped>\n",
              "    .dataframe tbody tr th:only-of-type {\n",
              "        vertical-align: middle;\n",
              "    }\n",
              "\n",
              "    .dataframe tbody tr th {\n",
              "        vertical-align: top;\n",
              "    }\n",
              "\n",
              "    .dataframe thead th {\n",
              "        text-align: right;\n",
              "    }\n",
              "</style>\n",
              "<table border=\"1\" class=\"dataframe\">\n",
              "  <thead>\n",
              "    <tr style=\"text-align: right;\">\n",
              "      <th></th>\n",
              "      <th>aX</th>\n",
              "      <th>aY</th>\n",
              "      <th>aZ</th>\n",
              "      <th>gX</th>\n",
              "      <th>gY</th>\n",
              "      <th>gZ</th>\n",
              "      <th>gesture</th>\n",
              "    </tr>\n",
              "  </thead>\n",
              "  <tbody>\n",
              "    <tr>\n",
              "      <th>0</th>\n",
              "      <td>-0.868</td>\n",
              "      <td>-0.676</td>\n",
              "      <td>0.086</td>\n",
              "      <td>-60.364</td>\n",
              "      <td>62.622</td>\n",
              "      <td>97.839</td>\n",
              "      <td>1</td>\n",
              "    </tr>\n",
              "    <tr>\n",
              "      <th>1</th>\n",
              "      <td>-0.777</td>\n",
              "      <td>-0.677</td>\n",
              "      <td>0.109</td>\n",
              "      <td>-58.716</td>\n",
              "      <td>79.651</td>\n",
              "      <td>104.553</td>\n",
              "      <td>1</td>\n",
              "    </tr>\n",
              "    <tr>\n",
              "      <th>2</th>\n",
              "      <td>-0.737</td>\n",
              "      <td>-0.622</td>\n",
              "      <td>0.066</td>\n",
              "      <td>-40.039</td>\n",
              "      <td>61.951</td>\n",
              "      <td>102.356</td>\n",
              "      <td>1</td>\n",
              "    </tr>\n",
              "    <tr>\n",
              "      <th>3</th>\n",
              "      <td>-0.727</td>\n",
              "      <td>-0.403</td>\n",
              "      <td>0.017</td>\n",
              "      <td>-14.832</td>\n",
              "      <td>33.936</td>\n",
              "      <td>95.459</td>\n",
              "      <td>1</td>\n",
              "    </tr>\n",
              "    <tr>\n",
              "      <th>4</th>\n",
              "      <td>-0.689</td>\n",
              "      <td>-0.249</td>\n",
              "      <td>-0.048</td>\n",
              "      <td>6.348</td>\n",
              "      <td>14.771</td>\n",
              "      <td>86.975</td>\n",
              "      <td>1</td>\n",
              "    </tr>\n",
              "  </tbody>\n",
              "</table>\n",
              "</div>"
            ],
            "text/plain": [
              "      aX     aY     aZ      gX      gY       gZ  gesture\n",
              "0 -0.868 -0.676  0.086 -60.364  62.622   97.839        1\n",
              "1 -0.777 -0.677  0.109 -58.716  79.651  104.553        1\n",
              "2 -0.737 -0.622  0.066 -40.039  61.951  102.356        1\n",
              "3 -0.727 -0.403  0.017 -14.832  33.936   95.459        1\n",
              "4 -0.689 -0.249 -0.048   6.348  14.771   86.975        1"
            ]
          },
          "metadata": {
            "tags": []
          },
          "execution_count": 7
        }
      ]
    },
    {
      "cell_type": "code",
      "metadata": {
        "id": "-2MfuMYWp4cd"
      },
      "source": [
        "d=pd.get_dummies(df,columns=['gesture'])"
      ],
      "execution_count": 8,
      "outputs": []
    },
    {
      "cell_type": "code",
      "metadata": {
        "colab": {
          "base_uri": "https://localhost:8080/",
          "height": 419
        },
        "id": "cqw4ftO5p8SE",
        "outputId": "a85bc660-b3db-41fc-f7ef-6dec67a02a0b"
      },
      "source": [
        "d"
      ],
      "execution_count": 9,
      "outputs": [
        {
          "output_type": "execute_result",
          "data": {
            "text/html": [
              "<div>\n",
              "<style scoped>\n",
              "    .dataframe tbody tr th:only-of-type {\n",
              "        vertical-align: middle;\n",
              "    }\n",
              "\n",
              "    .dataframe tbody tr th {\n",
              "        vertical-align: top;\n",
              "    }\n",
              "\n",
              "    .dataframe thead th {\n",
              "        text-align: right;\n",
              "    }\n",
              "</style>\n",
              "<table border=\"1\" class=\"dataframe\">\n",
              "  <thead>\n",
              "    <tr style=\"text-align: right;\">\n",
              "      <th></th>\n",
              "      <th>aX</th>\n",
              "      <th>aY</th>\n",
              "      <th>aZ</th>\n",
              "      <th>gX</th>\n",
              "      <th>gY</th>\n",
              "      <th>gZ</th>\n",
              "      <th>gesture_1</th>\n",
              "      <th>gesture_2</th>\n",
              "      <th>gesture_3</th>\n",
              "      <th>gesture_4</th>\n",
              "      <th>gesture_5</th>\n",
              "    </tr>\n",
              "  </thead>\n",
              "  <tbody>\n",
              "    <tr>\n",
              "      <th>0</th>\n",
              "      <td>-0.868</td>\n",
              "      <td>-0.676</td>\n",
              "      <td>0.086</td>\n",
              "      <td>-60.364</td>\n",
              "      <td>62.622</td>\n",
              "      <td>97.839</td>\n",
              "      <td>1</td>\n",
              "      <td>0</td>\n",
              "      <td>0</td>\n",
              "      <td>0</td>\n",
              "      <td>0</td>\n",
              "    </tr>\n",
              "    <tr>\n",
              "      <th>1</th>\n",
              "      <td>-0.777</td>\n",
              "      <td>-0.677</td>\n",
              "      <td>0.109</td>\n",
              "      <td>-58.716</td>\n",
              "      <td>79.651</td>\n",
              "      <td>104.553</td>\n",
              "      <td>1</td>\n",
              "      <td>0</td>\n",
              "      <td>0</td>\n",
              "      <td>0</td>\n",
              "      <td>0</td>\n",
              "    </tr>\n",
              "    <tr>\n",
              "      <th>2</th>\n",
              "      <td>-0.737</td>\n",
              "      <td>-0.622</td>\n",
              "      <td>0.066</td>\n",
              "      <td>-40.039</td>\n",
              "      <td>61.951</td>\n",
              "      <td>102.356</td>\n",
              "      <td>1</td>\n",
              "      <td>0</td>\n",
              "      <td>0</td>\n",
              "      <td>0</td>\n",
              "      <td>0</td>\n",
              "    </tr>\n",
              "    <tr>\n",
              "      <th>3</th>\n",
              "      <td>-0.727</td>\n",
              "      <td>-0.403</td>\n",
              "      <td>0.017</td>\n",
              "      <td>-14.832</td>\n",
              "      <td>33.936</td>\n",
              "      <td>95.459</td>\n",
              "      <td>1</td>\n",
              "      <td>0</td>\n",
              "      <td>0</td>\n",
              "      <td>0</td>\n",
              "      <td>0</td>\n",
              "    </tr>\n",
              "    <tr>\n",
              "      <th>4</th>\n",
              "      <td>-0.689</td>\n",
              "      <td>-0.249</td>\n",
              "      <td>-0.048</td>\n",
              "      <td>6.348</td>\n",
              "      <td>14.771</td>\n",
              "      <td>86.975</td>\n",
              "      <td>1</td>\n",
              "      <td>0</td>\n",
              "      <td>0</td>\n",
              "      <td>0</td>\n",
              "      <td>0</td>\n",
              "    </tr>\n",
              "    <tr>\n",
              "      <th>...</th>\n",
              "      <td>...</td>\n",
              "      <td>...</td>\n",
              "      <td>...</td>\n",
              "      <td>...</td>\n",
              "      <td>...</td>\n",
              "      <td>...</td>\n",
              "      <td>...</td>\n",
              "      <td>...</td>\n",
              "      <td>...</td>\n",
              "      <td>...</td>\n",
              "      <td>...</td>\n",
              "    </tr>\n",
              "    <tr>\n",
              "      <th>11895</th>\n",
              "      <td>-0.983</td>\n",
              "      <td>-0.046</td>\n",
              "      <td>-0.069</td>\n",
              "      <td>2.747</td>\n",
              "      <td>-0.122</td>\n",
              "      <td>-0.793</td>\n",
              "      <td>0</td>\n",
              "      <td>0</td>\n",
              "      <td>0</td>\n",
              "      <td>0</td>\n",
              "      <td>1</td>\n",
              "    </tr>\n",
              "    <tr>\n",
              "      <th>11896</th>\n",
              "      <td>-0.985</td>\n",
              "      <td>-0.043</td>\n",
              "      <td>-0.071</td>\n",
              "      <td>3.174</td>\n",
              "      <td>-1.038</td>\n",
              "      <td>-0.671</td>\n",
              "      <td>0</td>\n",
              "      <td>0</td>\n",
              "      <td>0</td>\n",
              "      <td>0</td>\n",
              "      <td>1</td>\n",
              "    </tr>\n",
              "    <tr>\n",
              "      <th>11897</th>\n",
              "      <td>-0.984</td>\n",
              "      <td>-0.042</td>\n",
              "      <td>-0.061</td>\n",
              "      <td>2.991</td>\n",
              "      <td>-0.549</td>\n",
              "      <td>-0.244</td>\n",
              "      <td>0</td>\n",
              "      <td>0</td>\n",
              "      <td>0</td>\n",
              "      <td>0</td>\n",
              "      <td>1</td>\n",
              "    </tr>\n",
              "    <tr>\n",
              "      <th>11898</th>\n",
              "      <td>-0.983</td>\n",
              "      <td>-0.050</td>\n",
              "      <td>-0.063</td>\n",
              "      <td>2.808</td>\n",
              "      <td>-0.732</td>\n",
              "      <td>0.122</td>\n",
              "      <td>0</td>\n",
              "      <td>0</td>\n",
              "      <td>0</td>\n",
              "      <td>0</td>\n",
              "      <td>1</td>\n",
              "    </tr>\n",
              "    <tr>\n",
              "      <th>11899</th>\n",
              "      <td>-0.977</td>\n",
              "      <td>-0.043</td>\n",
              "      <td>-0.061</td>\n",
              "      <td>3.479</td>\n",
              "      <td>-1.038</td>\n",
              "      <td>-0.244</td>\n",
              "      <td>0</td>\n",
              "      <td>0</td>\n",
              "      <td>0</td>\n",
              "      <td>0</td>\n",
              "      <td>1</td>\n",
              "    </tr>\n",
              "  </tbody>\n",
              "</table>\n",
              "<p>59500 rows × 11 columns</p>\n",
              "</div>"
            ],
            "text/plain": [
              "          aX     aY     aZ      gX  ...  gesture_2  gesture_3  gesture_4  gesture_5\n",
              "0     -0.868 -0.676  0.086 -60.364  ...          0          0          0          0\n",
              "1     -0.777 -0.677  0.109 -58.716  ...          0          0          0          0\n",
              "2     -0.737 -0.622  0.066 -40.039  ...          0          0          0          0\n",
              "3     -0.727 -0.403  0.017 -14.832  ...          0          0          0          0\n",
              "4     -0.689 -0.249 -0.048   6.348  ...          0          0          0          0\n",
              "...      ...    ...    ...     ...  ...        ...        ...        ...        ...\n",
              "11895 -0.983 -0.046 -0.069   2.747  ...          0          0          0          1\n",
              "11896 -0.985 -0.043 -0.071   3.174  ...          0          0          0          1\n",
              "11897 -0.984 -0.042 -0.061   2.991  ...          0          0          0          1\n",
              "11898 -0.983 -0.050 -0.063   2.808  ...          0          0          0          1\n",
              "11899 -0.977 -0.043 -0.061   3.479  ...          0          0          0          1\n",
              "\n",
              "[59500 rows x 11 columns]"
            ]
          },
          "metadata": {
            "tags": []
          },
          "execution_count": 9
        }
      ]
    },
    {
      "cell_type": "code",
      "metadata": {
        "id": "Yf7fUv4Yp9uq"
      },
      "source": [
        "from sklearn.model_selection import train_test_split"
      ],
      "execution_count": 10,
      "outputs": []
    },
    {
      "cell_type": "code",
      "metadata": {
        "id": "fzmWrN_GqAWJ"
      },
      "source": [
        "x=d[['aX','aY','aZ','gX','gY','gZ']]\r\n",
        "y=d[['gesture_1','gesture_2','gesture_3','gesture_4','gesture_5']]"
      ],
      "execution_count": 11,
      "outputs": []
    },
    {
      "cell_type": "code",
      "metadata": {
        "colab": {
          "base_uri": "https://localhost:8080/"
        },
        "id": "e1SM3J_lqCUV",
        "outputId": "d5022187-200b-4c88-b359-c208acb98b8a"
      },
      "source": [
        "\r\n",
        "x.shape"
      ],
      "execution_count": 12,
      "outputs": [
        {
          "output_type": "execute_result",
          "data": {
            "text/plain": [
              "(59500, 6)"
            ]
          },
          "metadata": {
            "tags": []
          },
          "execution_count": 12
        }
      ]
    },
    {
      "cell_type": "code",
      "metadata": {
        "id": "TwILdAuHqEHU"
      },
      "source": [
        "x_train, x_test, y_train, y_test = train_test_split(x, y, test_size=0.33, random_state=42)"
      ],
      "execution_count": 13,
      "outputs": []
    },
    {
      "cell_type": "code",
      "metadata": {
        "colab": {
          "base_uri": "https://localhost:8080/",
          "height": 419
        },
        "id": "gLRyHg4jqFts",
        "outputId": "e1de2d0e-8136-4496-b8d2-3b86268affbf"
      },
      "source": [
        "y_train"
      ],
      "execution_count": 14,
      "outputs": [
        {
          "output_type": "execute_result",
          "data": {
            "text/html": [
              "<div>\n",
              "<style scoped>\n",
              "    .dataframe tbody tr th:only-of-type {\n",
              "        vertical-align: middle;\n",
              "    }\n",
              "\n",
              "    .dataframe tbody tr th {\n",
              "        vertical-align: top;\n",
              "    }\n",
              "\n",
              "    .dataframe thead th {\n",
              "        text-align: right;\n",
              "    }\n",
              "</style>\n",
              "<table border=\"1\" class=\"dataframe\">\n",
              "  <thead>\n",
              "    <tr style=\"text-align: right;\">\n",
              "      <th></th>\n",
              "      <th>gesture_1</th>\n",
              "      <th>gesture_2</th>\n",
              "      <th>gesture_3</th>\n",
              "      <th>gesture_4</th>\n",
              "      <th>gesture_5</th>\n",
              "    </tr>\n",
              "  </thead>\n",
              "  <tbody>\n",
              "    <tr>\n",
              "      <th>7720</th>\n",
              "      <td>0</td>\n",
              "      <td>0</td>\n",
              "      <td>1</td>\n",
              "      <td>0</td>\n",
              "      <td>0</td>\n",
              "    </tr>\n",
              "    <tr>\n",
              "      <th>5489</th>\n",
              "      <td>1</td>\n",
              "      <td>0</td>\n",
              "      <td>0</td>\n",
              "      <td>0</td>\n",
              "      <td>0</td>\n",
              "    </tr>\n",
              "    <tr>\n",
              "      <th>2065</th>\n",
              "      <td>0</td>\n",
              "      <td>0</td>\n",
              "      <td>0</td>\n",
              "      <td>1</td>\n",
              "      <td>0</td>\n",
              "    </tr>\n",
              "    <tr>\n",
              "      <th>6982</th>\n",
              "      <td>0</td>\n",
              "      <td>0</td>\n",
              "      <td>0</td>\n",
              "      <td>1</td>\n",
              "      <td>0</td>\n",
              "    </tr>\n",
              "    <tr>\n",
              "      <th>3940</th>\n",
              "      <td>0</td>\n",
              "      <td>0</td>\n",
              "      <td>0</td>\n",
              "      <td>0</td>\n",
              "      <td>1</td>\n",
              "    </tr>\n",
              "    <tr>\n",
              "      <th>...</th>\n",
              "      <td>...</td>\n",
              "      <td>...</td>\n",
              "      <td>...</td>\n",
              "      <td>...</td>\n",
              "      <td>...</td>\n",
              "    </tr>\n",
              "    <tr>\n",
              "      <th>6743</th>\n",
              "      <td>0</td>\n",
              "      <td>0</td>\n",
              "      <td>0</td>\n",
              "      <td>0</td>\n",
              "      <td>1</td>\n",
              "    </tr>\n",
              "    <tr>\n",
              "      <th>2458</th>\n",
              "      <td>0</td>\n",
              "      <td>0</td>\n",
              "      <td>0</td>\n",
              "      <td>1</td>\n",
              "      <td>0</td>\n",
              "    </tr>\n",
              "    <tr>\n",
              "      <th>860</th>\n",
              "      <td>1</td>\n",
              "      <td>0</td>\n",
              "      <td>0</td>\n",
              "      <td>0</td>\n",
              "      <td>0</td>\n",
              "    </tr>\n",
              "    <tr>\n",
              "      <th>3895</th>\n",
              "      <td>0</td>\n",
              "      <td>1</td>\n",
              "      <td>0</td>\n",
              "      <td>0</td>\n",
              "      <td>0</td>\n",
              "    </tr>\n",
              "    <tr>\n",
              "      <th>8822</th>\n",
              "      <td>0</td>\n",
              "      <td>0</td>\n",
              "      <td>0</td>\n",
              "      <td>0</td>\n",
              "      <td>1</td>\n",
              "    </tr>\n",
              "  </tbody>\n",
              "</table>\n",
              "<p>39865 rows × 5 columns</p>\n",
              "</div>"
            ],
            "text/plain": [
              "      gesture_1  gesture_2  gesture_3  gesture_4  gesture_5\n",
              "7720          0          0          1          0          0\n",
              "5489          1          0          0          0          0\n",
              "2065          0          0          0          1          0\n",
              "6982          0          0          0          1          0\n",
              "3940          0          0          0          0          1\n",
              "...         ...        ...        ...        ...        ...\n",
              "6743          0          0          0          0          1\n",
              "2458          0          0          0          1          0\n",
              "860           1          0          0          0          0\n",
              "3895          0          1          0          0          0\n",
              "8822          0          0          0          0          1\n",
              "\n",
              "[39865 rows x 5 columns]"
            ]
          },
          "metadata": {
            "tags": []
          },
          "execution_count": 14
        }
      ]
    },
    {
      "cell_type": "code",
      "metadata": {
        "id": "abIlF3E4qHe4"
      },
      "source": [
        "from sklearn.preprocessing import MinMaxScaler"
      ],
      "execution_count": 15,
      "outputs": []
    },
    {
      "cell_type": "code",
      "metadata": {
        "id": "xeBz5zf1qJRE"
      },
      "source": [
        "sc=MinMaxScaler()"
      ],
      "execution_count": 16,
      "outputs": []
    },
    {
      "cell_type": "code",
      "metadata": {
        "colab": {
          "base_uri": "https://localhost:8080/"
        },
        "id": "94tcyBXoqKsr",
        "outputId": "676b51af-a850-40c4-aa3b-f25a98903ea8"
      },
      "source": [
        "sc.fit(x_train)"
      ],
      "execution_count": 17,
      "outputs": [
        {
          "output_type": "execute_result",
          "data": {
            "text/plain": [
              "MinMaxScaler(copy=True, feature_range=(0, 1))"
            ]
          },
          "metadata": {
            "tags": []
          },
          "execution_count": 17
        }
      ]
    },
    {
      "cell_type": "code",
      "metadata": {
        "id": "qFcBGEbMqMEz"
      },
      "source": [
        "x_train=sc.transform(x_train)"
      ],
      "execution_count": 18,
      "outputs": []
    },
    {
      "cell_type": "code",
      "metadata": {
        "id": "oW4lO6oJqN0i"
      },
      "source": [
        "x_test=sc.transform(x_test)"
      ],
      "execution_count": 19,
      "outputs": []
    },
    {
      "cell_type": "code",
      "metadata": {
        "colab": {
          "base_uri": "https://localhost:8080/",
          "height": 419
        },
        "id": "ZKUPpfAcqPVv",
        "outputId": "5fe14b5c-7b0f-4f7e-b886-cfefef863643"
      },
      "source": [
        "y_test"
      ],
      "execution_count": 20,
      "outputs": [
        {
          "output_type": "execute_result",
          "data": {
            "text/html": [
              "<div>\n",
              "<style scoped>\n",
              "    .dataframe tbody tr th:only-of-type {\n",
              "        vertical-align: middle;\n",
              "    }\n",
              "\n",
              "    .dataframe tbody tr th {\n",
              "        vertical-align: top;\n",
              "    }\n",
              "\n",
              "    .dataframe thead th {\n",
              "        text-align: right;\n",
              "    }\n",
              "</style>\n",
              "<table border=\"1\" class=\"dataframe\">\n",
              "  <thead>\n",
              "    <tr style=\"text-align: right;\">\n",
              "      <th></th>\n",
              "      <th>gesture_1</th>\n",
              "      <th>gesture_2</th>\n",
              "      <th>gesture_3</th>\n",
              "      <th>gesture_4</th>\n",
              "      <th>gesture_5</th>\n",
              "    </tr>\n",
              "  </thead>\n",
              "  <tbody>\n",
              "    <tr>\n",
              "      <th>10289</th>\n",
              "      <td>1</td>\n",
              "      <td>0</td>\n",
              "      <td>0</td>\n",
              "      <td>0</td>\n",
              "      <td>0</td>\n",
              "    </tr>\n",
              "    <tr>\n",
              "      <th>2128</th>\n",
              "      <td>0</td>\n",
              "      <td>0</td>\n",
              "      <td>1</td>\n",
              "      <td>0</td>\n",
              "      <td>0</td>\n",
              "    </tr>\n",
              "    <tr>\n",
              "      <th>10880</th>\n",
              "      <td>1</td>\n",
              "      <td>0</td>\n",
              "      <td>0</td>\n",
              "      <td>0</td>\n",
              "      <td>0</td>\n",
              "    </tr>\n",
              "    <tr>\n",
              "      <th>3894</th>\n",
              "      <td>0</td>\n",
              "      <td>0</td>\n",
              "      <td>1</td>\n",
              "      <td>0</td>\n",
              "      <td>0</td>\n",
              "    </tr>\n",
              "    <tr>\n",
              "      <th>9311</th>\n",
              "      <td>1</td>\n",
              "      <td>0</td>\n",
              "      <td>0</td>\n",
              "      <td>0</td>\n",
              "      <td>0</td>\n",
              "    </tr>\n",
              "    <tr>\n",
              "      <th>...</th>\n",
              "      <td>...</td>\n",
              "      <td>...</td>\n",
              "      <td>...</td>\n",
              "      <td>...</td>\n",
              "      <td>...</td>\n",
              "    </tr>\n",
              "    <tr>\n",
              "      <th>9318</th>\n",
              "      <td>0</td>\n",
              "      <td>0</td>\n",
              "      <td>0</td>\n",
              "      <td>1</td>\n",
              "      <td>0</td>\n",
              "    </tr>\n",
              "    <tr>\n",
              "      <th>10411</th>\n",
              "      <td>0</td>\n",
              "      <td>0</td>\n",
              "      <td>0</td>\n",
              "      <td>1</td>\n",
              "      <td>0</td>\n",
              "    </tr>\n",
              "    <tr>\n",
              "      <th>4226</th>\n",
              "      <td>1</td>\n",
              "      <td>0</td>\n",
              "      <td>0</td>\n",
              "      <td>0</td>\n",
              "      <td>0</td>\n",
              "    </tr>\n",
              "    <tr>\n",
              "      <th>4185</th>\n",
              "      <td>1</td>\n",
              "      <td>0</td>\n",
              "      <td>0</td>\n",
              "      <td>0</td>\n",
              "      <td>0</td>\n",
              "    </tr>\n",
              "    <tr>\n",
              "      <th>9037</th>\n",
              "      <td>1</td>\n",
              "      <td>0</td>\n",
              "      <td>0</td>\n",
              "      <td>0</td>\n",
              "      <td>0</td>\n",
              "    </tr>\n",
              "  </tbody>\n",
              "</table>\n",
              "<p>19635 rows × 5 columns</p>\n",
              "</div>"
            ],
            "text/plain": [
              "       gesture_1  gesture_2  gesture_3  gesture_4  gesture_5\n",
              "10289          1          0          0          0          0\n",
              "2128           0          0          1          0          0\n",
              "10880          1          0          0          0          0\n",
              "3894           0          0          1          0          0\n",
              "9311           1          0          0          0          0\n",
              "...          ...        ...        ...        ...        ...\n",
              "9318           0          0          0          1          0\n",
              "10411          0          0          0          1          0\n",
              "4226           1          0          0          0          0\n",
              "4185           1          0          0          0          0\n",
              "9037           1          0          0          0          0\n",
              "\n",
              "[19635 rows x 5 columns]"
            ]
          },
          "metadata": {
            "tags": []
          },
          "execution_count": 20
        }
      ]
    },
    {
      "cell_type": "code",
      "metadata": {
        "id": "kmXxI6tAqRtZ"
      },
      "source": [
        "from tensorflow.keras.models import Sequential\r\n",
        "from tensorflow.keras.layers import Dense,Dropout"
      ],
      "execution_count": 21,
      "outputs": []
    },
    {
      "cell_type": "code",
      "metadata": {
        "id": "MYcP7ILUqT8I"
      },
      "source": [
        "model=Sequential()\r\n",
        "model.add(Dense(512,activation='relu',input_dim=6))\r\n",
        "model.add(Dense(256,activation='relu'))\r\n",
        "model.add(Dense(128,activation='relu'))\r\n",
        "\r\n",
        "model.add(Dense(5,activation='softmax'))\r\n",
        "model.compile(loss='categorical_crossentropy',optimizer='adam',metrics=['accuracy'])"
      ],
      "execution_count": 22,
      "outputs": []
    },
    {
      "cell_type": "code",
      "metadata": {
        "colab": {
          "base_uri": "https://localhost:8080/"
        },
        "id": "q_9c_jJkqViq",
        "outputId": "51f510bf-6701-40b5-fbea-4bd057ca87f1"
      },
      "source": [
        "model.summary()"
      ],
      "execution_count": 23,
      "outputs": [
        {
          "output_type": "stream",
          "text": [
            "Model: \"sequential\"\n",
            "_________________________________________________________________\n",
            "Layer (type)                 Output Shape              Param #   \n",
            "=================================================================\n",
            "dense (Dense)                (None, 512)               3584      \n",
            "_________________________________________________________________\n",
            "dense_1 (Dense)              (None, 256)               131328    \n",
            "_________________________________________________________________\n",
            "dense_2 (Dense)              (None, 128)               32896     \n",
            "_________________________________________________________________\n",
            "dense_3 (Dense)              (None, 5)                 645       \n",
            "=================================================================\n",
            "Total params: 168,453\n",
            "Trainable params: 168,453\n",
            "Non-trainable params: 0\n",
            "_________________________________________________________________\n"
          ],
          "name": "stdout"
        }
      ]
    },
    {
      "cell_type": "code",
      "metadata": {
        "colab": {
          "base_uri": "https://localhost:8080/"
        },
        "id": "AmYxt-6hqX1y",
        "outputId": "22eb99d7-dbe2-43bb-fffd-c6e90f72724f"
      },
      "source": [
        "model.fit(x=x_train,y=y_train,epochs=5)"
      ],
      "execution_count": 24,
      "outputs": [
        {
          "output_type": "stream",
          "text": [
            "Epoch 1/5\n",
            "1246/1246 [==============================] - 5s 4ms/step - loss: 1.3245 - accuracy: 0.3900\n",
            "Epoch 2/5\n",
            "1246/1246 [==============================] - 5s 4ms/step - loss: 0.8906 - accuracy: 0.6132\n",
            "Epoch 3/5\n",
            "1246/1246 [==============================] - 4s 3ms/step - loss: 0.7810 - accuracy: 0.6626\n",
            "Epoch 4/5\n",
            "1246/1246 [==============================] - 4s 3ms/step - loss: 0.7131 - accuracy: 0.7019\n",
            "Epoch 5/5\n",
            "1246/1246 [==============================] - 4s 3ms/step - loss: 0.6884 - accuracy: 0.7148\n"
          ],
          "name": "stdout"
        },
        {
          "output_type": "execute_result",
          "data": {
            "text/plain": [
              "<tensorflow.python.keras.callbacks.History at 0x7f4a0ef29c50>"
            ]
          },
          "metadata": {
            "tags": []
          },
          "execution_count": 24
        }
      ]
    },
    {
      "cell_type": "code",
      "metadata": {
        "colab": {
          "base_uri": "https://localhost:8080/"
        },
        "id": "Bag0rTlRqaLL",
        "outputId": "2a35c197-51f8-4a92-eebd-1a9dc8e3ba50"
      },
      "source": [
        "p=model.predict(x_test)\r\n",
        "p"
      ],
      "execution_count": 25,
      "outputs": [
        {
          "output_type": "execute_result",
          "data": {
            "text/plain": [
              "array([[1.22592546e-01, 2.77479623e-10, 2.00655267e-01, 1.20588437e-01,\n",
              "        5.56163669e-01],\n",
              "       [1.26715347e-01, 5.58318845e-07, 4.67477202e-01, 3.98298413e-01,\n",
              "        7.50855496e-03],\n",
              "       [5.70924342e-01, 5.07574100e-07, 1.14300571e-01, 2.43607983e-01,\n",
              "        7.11666122e-02],\n",
              "       ...,\n",
              "       [4.66709197e-01, 1.12068110e-05, 1.03847116e-01, 4.12784845e-01,\n",
              "        1.66476276e-02],\n",
              "       [1.35806963e-01, 2.48970252e-07, 8.64192545e-01, 6.40788116e-08,\n",
              "        2.53555555e-07],\n",
              "       [3.72888148e-01, 3.74507636e-06, 1.80256993e-01, 4.12618071e-01,\n",
              "        3.42330039e-02]], dtype=float32)"
            ]
          },
          "metadata": {
            "tags": []
          },
          "execution_count": 25
        }
      ]
    },
    {
      "cell_type": "code",
      "metadata": {
        "id": "T6eAZN-bqckU"
      },
      "source": [
        "pp=p.argmax(axis=1)"
      ],
      "execution_count": 26,
      "outputs": []
    },
    {
      "cell_type": "code",
      "metadata": {
        "id": "7jaKYBBiqh45"
      },
      "source": [
        "j=y_test.values"
      ],
      "execution_count": 27,
      "outputs": []
    },
    {
      "cell_type": "code",
      "metadata": {
        "id": "wPPULpDhqjTH"
      },
      "source": [
        "jj=j.argmax(axis=1)"
      ],
      "execution_count": 28,
      "outputs": []
    },
    {
      "cell_type": "code",
      "metadata": {
        "colab": {
          "base_uri": "https://localhost:8080/"
        },
        "id": "7DFsV92aqkvE",
        "outputId": "c2a8c7e0-701d-45b7-dfb9-40462ceadf66"
      },
      "source": [
        "len(jj[jj==1])"
      ],
      "execution_count": 29,
      "outputs": [
        {
          "output_type": "execute_result",
          "data": {
            "text/plain": [
              "3867"
            ]
          },
          "metadata": {
            "tags": []
          },
          "execution_count": 29
        }
      ]
    },
    {
      "cell_type": "code",
      "metadata": {
        "id": "Ohn3-22-qnAB"
      },
      "source": [
        "from sklearn.metrics import confusion_matrix"
      ],
      "execution_count": 30,
      "outputs": []
    },
    {
      "cell_type": "code",
      "metadata": {
        "colab": {
          "base_uri": "https://localhost:8080/"
        },
        "id": "JAGBGIfzqput",
        "outputId": "79caca34-7183-4f9a-f9bd-da7e81878e4e"
      },
      "source": [
        "print(confusion_matrix(jj,pp))"
      ],
      "execution_count": 39,
      "outputs": [
        {
          "output_type": "stream",
          "text": [
            "[[2604  101  337  828  117]\n",
            " [   3 3862    1    1    0]\n",
            " [ 656   50 1744 1315  114]\n",
            " [ 527   62  122 3144   52]\n",
            " [ 501  287   58   39 3110]]\n"
          ],
          "name": "stdout"
        }
      ]
    },
    {
      "cell_type": "code",
      "metadata": {
        "id": "V1fkm1rgrF8A"
      },
      "source": [
        ""
      ],
      "execution_count": null,
      "outputs": []
    }
  ]
}